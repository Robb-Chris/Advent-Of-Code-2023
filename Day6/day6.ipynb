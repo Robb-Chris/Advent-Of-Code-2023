{
 "cells": [
  {
   "cell_type": "code",
   "execution_count": 15,
   "metadata": {},
   "outputs": [
    {
     "name": "stdout",
     "output_type": "stream",
     "text": [
      "['Time', [54, 70, 82, 75]]\n",
      "['Distance', [239, 1142, 1295, 1253]]\n"
     ]
    }
   ],
   "source": [
    "input = []\n",
    "\n",
    "with open(\"day6_input.txt\", \"r\") as f:\n",
    "    input = f.read().split(\"\\n\")\n",
    "\n",
    "cleaned_data = []\n",
    "\n",
    "for i in input:\n",
    "    key, values = i.split(\":\")\n",
    "    values = [int(x) for value in values.split(\" \") if value not in [\"\", None] for x in value.split(\" \")]\n",
    "    cleaned_data.append([key, values])\n",
    "\n",
    "time = cleaned_data[0]\n",
    "distance = cleaned_data[1]\n",
    "\n",
    "print(time)\n",
    "print(distance)"
   ]
  },
  {
   "cell_type": "code",
   "execution_count": 16,
   "metadata": {},
   "outputs": [
    {
     "name": "stdout",
     "output_type": "stream",
     "text": [
      "800280\n"
     ]
    }
   ],
   "source": [
    "sums = 1\n",
    "\n",
    "for i, racetime in enumerate(time[1]):\n",
    "    scores = []\n",
    "    record = distance[1][i]\n",
    "\n",
    "    for i in range(1, racetime):\n",
    "        speed = i\n",
    "        dist = speed * (racetime - i)\n",
    "        if dist > record:\n",
    "            scores.append(dist)\n",
    "    \n",
    "    sums *= len(scores)\n",
    "\n",
    "print(sums)"
   ]
  }
 ],
 "metadata": {
  "kernelspec": {
   "display_name": "Python 3",
   "language": "python",
   "name": "python3"
  },
  "language_info": {
   "codemirror_mode": {
    "name": "ipython",
    "version": 3
   },
   "file_extension": ".py",
   "mimetype": "text/x-python",
   "name": "python",
   "nbconvert_exporter": "python",
   "pygments_lexer": "ipython3",
   "version": "3.8.18"
  }
 },
 "nbformat": 4,
 "nbformat_minor": 2
}
