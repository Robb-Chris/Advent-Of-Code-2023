{
 "cells": [
  {
   "cell_type": "code",
   "execution_count": 12,
   "metadata": {},
   "outputs": [
    {
     "name": "stdout",
     "output_type": "stream",
     "text": [
      "54390\n"
     ]
    }
   ],
   "source": [
    "codelist = []\n",
    "linecount = 0\n",
    "with open(\"day1_puzzleinput.txt\", \"r\") as f:\n",
    "    for line in f:\n",
    "        codelist.append(line.strip())\n",
    "        linecount += 1\n",
    "\n",
    "# print(linecount)\n",
    "\n",
    "cleaned_codelist = []\n",
    "for code in codelist:\n",
    "    cleaned_code = \"\".join(filter(str.isdigit, code))\n",
    "    cleaned_codelist.append(cleaned_code)\n",
    "\n",
    "# print(cleaned_codelist)\n",
    "\n",
    "for i, code in enumerate(cleaned_codelist):\n",
    "    if len(code) == 1:\n",
    "        cleaned_codelist[i] = code[0] * 2\n",
    "    if len(code) > 2:\n",
    "        cleaned_codelist[i] = code[0] + code[-1]\n",
    "        \n",
    "# print(cleaned_codelist)\n",
    "\n",
    "sum = 0\n",
    "for code in cleaned_codelist:\n",
    "    sum += int(code)\n",
    "\n",
    "print(sum)"
   ]
  }
 ],
 "metadata": {
  "kernelspec": {
   "display_name": "Python 3",
   "language": "python",
   "name": "python3"
  },
  "language_info": {
   "codemirror_mode": {
    "name": "ipython",
    "version": 3
   },
   "file_extension": ".py",
   "mimetype": "text/x-python",
   "name": "python",
   "nbconvert_exporter": "python",
   "pygments_lexer": "ipython3",
   "version": "3.8.18"
  }
 },
 "nbformat": 4,
 "nbformat_minor": 2
}
