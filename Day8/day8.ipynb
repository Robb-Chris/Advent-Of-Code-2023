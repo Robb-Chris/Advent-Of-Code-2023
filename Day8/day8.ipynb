{
 "cells": [
  {
   "cell_type": "code",
   "execution_count": 15,
   "metadata": {},
   "outputs": [
    {
     "name": "stdout",
     "output_type": "stream",
     "text": [
      "[['AAA ', ' (BBB, CCC)'], ['BBB ', ' (DDD, EEE)'], ['CCC ', ' (ZZZ, GGG)'], ['DDD ', ' (DDD, DDD)'], ['EEE ', ' (EEE, EEE)'], ['GGG ', ' (GGG, GGG)'], ['ZZZ ', ' (ZZZ, ZZZ)']]\n",
      "()\n",
      "{'AAA': ('BBB', 'CCC'), 'BBB': ('DDD', 'EEE'), 'CCC': ('ZZZ', 'GGG'), 'DDD': ('DDD', 'DDD'), 'EEE': ('EEE', 'EEE'), 'GGG': ('GGG', 'GGG'), 'ZZZ': ('ZZZ', 'ZZZ')}\n"
     ]
    }
   ],
   "source": [
    "lines = []\n",
    "\n",
    "with open(\"day8_sample.txt\", \"r\") as f:\n",
    "    for line in f:\n",
    "        lines.append(line.strip().split(\"=\"))\n",
    "        # print(line.strip())\n",
    "\n",
    "dirs = lines[0][0]\n",
    "coords = lines[2:]\n",
    "coordmap = {}\n",
    "\n",
    "for coord in coords:\n",
    "    key = coord[0].strip()\n",
    "    value_str = coord[1].strip(\" ()\")\n",
    "    value_tuple = tuple(value_str.split(', '))\n",
    "    coordmap[key] = value_tuple\n",
    "\n",
    "print(dirs)\n",
    "print(coordmap)"
   ]
  }
 ],
 "metadata": {
  "kernelspec": {
   "display_name": "Python 3",
   "language": "python",
   "name": "python3"
  },
  "language_info": {
   "codemirror_mode": {
    "name": "ipython",
    "version": 3
   },
   "file_extension": ".py",
   "mimetype": "text/x-python",
   "name": "python",
   "nbconvert_exporter": "python",
   "pygments_lexer": "ipython3",
   "version": "3.8.18"
  }
 },
 "nbformat": 4,
 "nbformat_minor": 2
}
