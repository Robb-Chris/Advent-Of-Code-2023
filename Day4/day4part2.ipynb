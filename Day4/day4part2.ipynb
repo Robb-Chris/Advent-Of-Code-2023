{
 "cells": [
  {
   "cell_type": "code",
   "execution_count": 14,
   "metadata": {},
   "outputs": [],
   "source": [
    "lines = []\n",
    "cards = {}\n",
    "\n",
    "with open(\"day4_input.txt\", \"r\") as f:\n",
    "    for line in f:\n",
    "        lines.append(line.strip())\n",
    "\n",
    "for line in lines:\n",
    "    line = line.split(\":\")\n",
    "    game = int(line[0].split(\"Card \")[1])\n",
    "    line = line[1].split(\"|\")\n",
    "\n",
    "    win_nums = line[0].split(\" \")\n",
    "    win_nums = [int(item) for item in win_nums if item not in [\"\", None]]\n",
    "\n",
    "    draws = line[1].split(\" \")\n",
    "    draws = [int(item) for item in draws if item not in [\"\", None]]\n",
    "\n",
    "    cards[game] = (win_nums, draws)\n",
    "    \n",
    "for game, value in cards.items():\n",
    "    # print(game, value[0], value[1])\n",
    "    continue\n",
    "\n",
    "# print(cards)"
   ]
  },
  {
   "cell_type": "code",
   "execution_count": 15,
   "metadata": {},
   "outputs": [
    {
     "data": {
      "text/plain": [
       "23806951"
      ]
     },
     "execution_count": 15,
     "metadata": {},
     "output_type": "execute_result"
    }
   ],
   "source": [
    "def count_matching_numbers(win_nums, draws):\n",
    "    return sum(1 for num in draws if num in win_nums)\n",
    "\n",
    "def calculate_total_cards(cards):\n",
    "    total_cards = {i: 1 for i in range(1, len(cards) + 1)} \n",
    "\n",
    "    for i, card_data in enumerate(cards.items(), start=1):\n",
    "        win_nums, draws = card_data[1] \n",
    "        matches = count_matching_numbers(win_nums, draws)\n",
    "        for j in range(i + 1, min(i + 1 + matches, len(cards) + 1)):\n",
    "            total_cards[j] += total_cards[i]\n",
    "\n",
    "    return total_cards\n",
    "\n",
    "total_cards = calculate_total_cards(cards)\n",
    "\n",
    "total_scratchcards = sum(total_cards.values())\n",
    "\n",
    "total_scratchcards"
   ]
  }
 ],
 "metadata": {
  "kernelspec": {
   "display_name": "Python 3",
   "language": "python",
   "name": "python3"
  },
  "language_info": {
   "codemirror_mode": {
    "name": "ipython",
    "version": 3
   },
   "file_extension": ".py",
   "mimetype": "text/x-python",
   "name": "python",
   "nbconvert_exporter": "python",
   "pygments_lexer": "ipython3",
   "version": "3.8.18"
  }
 },
 "nbformat": 4,
 "nbformat_minor": 2
}
