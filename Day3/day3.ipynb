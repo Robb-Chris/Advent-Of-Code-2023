{
 "cells": [
  {
   "cell_type": "code",
   "execution_count": 30,
   "metadata": {},
   "outputs": [
    {
     "name": "stdout",
     "output_type": "stream",
     "text": [
      "['&', '*', '$', '@', '/', '+', '%', '-', '=', '#']\n",
      "['&', '*', '$', '@', '/', '+', '%', '-', '=', '#', '.']\n"
     ]
    }
   ],
   "source": [
    "lines = []\n",
    "symbols = []\n",
    "\n",
    "with open(\"day3_input.txt\", \"r\") as f:\n",
    "    for line in f:\n",
    "        lines.append(line.strip())\n",
    "\n",
    "for line in lines:\n",
    "    for char in line:\n",
    "        if char.isdigit() == False and char != \".\":\n",
    "            symbols.append(char)\n",
    "\n",
    "padded_lines = [len(lines)* \".\"] + lines + [len(lines)* \".\"]\n",
    "padded_lines = [\".\" + line + \".\" for line in padded_lines]\n",
    "\n",
    "# for line in padded_lines:\n",
    "#     print(line)\n",
    "\n",
    "symbols = list(set(symbols))\n",
    "symbolsdot = symbols + [\".\"]\n",
    "print(symbols)\n",
    "print(symbolsdot)\n"
   ]
  },
  {
   "cell_type": "code",
   "execution_count": 31,
   "metadata": {},
   "outputs": [
    {
     "name": "stdout",
     "output_type": "stream",
     "text": [
      "520019\n"
     ]
    }
   ],
   "source": [
    "def check_adjacency(location, numtype):\n",
    "    if numtype == \"single\":\n",
    "        matrix = [(-1, -1), (-1, 0), (-1, 1), (0, -1), (0, 1), (1,-1), (1, 0), (1, 1)]\n",
    "        for i in matrix:\n",
    "            if padded_lines[location[0]+i[0]][location[1]+i[1]] in symbols:\n",
    "                return True\n",
    "        return False\n",
    "    \n",
    "    elif numtype == \"double\":\n",
    "        matrix = [(-1, -1), (-1, 0), (-1, 1), (-1, 2), (0, -1), (0, 1), (0, 2), (1,-1), (1, 0), (1, 1), (1, 2)]\n",
    "        for i in matrix:\n",
    "            if padded_lines[location[0]+i[0]][location[1]+i[1]] in symbols:\n",
    "                return True\n",
    "        return False\n",
    "    \n",
    "    elif numtype == \"triple\":\n",
    "        matrix = [(-1, -2), (-1, -1), (-1, 0), (-1, 1), (-1, 2), (0, -1), (0, -2), (0, 1), (0, 2), (1,-2), (1,-1), (1, 0), (1, 1), (1, 2)]\n",
    "        for i in matrix:\n",
    "            if padded_lines[location[0]+i[0]][location[1]+i[1]] in symbols:\n",
    "                return True\n",
    "        return False\n",
    "\n",
    "# Example usage\n",
    "sum = 0\n",
    "digit_loop = False\n",
    "\n",
    "for n, line in enumerate(padded_lines):\n",
    "    for i, char in enumerate(line):\n",
    "        if char.isdigit() and digit_loop == False:\n",
    "            digit_loop = True\n",
    "            digit = char + line[i+1] + line[i+2]\n",
    "            # print(digit)\n",
    "            if line[i+1] in symbolsdot: # 1 digit number\n",
    "                tri_digit_loc = (n, i) # (row, column)\n",
    "                if check_adjacency(tri_digit_loc, \"single\"):\n",
    "                    sum += int(char)\n",
    "            elif line[i+2] in symbolsdot: # 2 digit number\n",
    "                duo_digit_loc = (n, i)\n",
    "                if check_adjacency(duo_digit_loc, \"double\"):\n",
    "                    sum += int(char+line[i+1])\n",
    "            else:\n",
    "                duo_digit_loc = (n, i+1)\n",
    "                if check_adjacency(duo_digit_loc, \"triple\"):\n",
    "                    sum += int(char+line[i+1]+line[i+2])\n",
    "                continue\n",
    "        elif char.isdigit() and digit_loop == True:\n",
    "            continue\n",
    "        else:\n",
    "            digit_loop = False\n",
    "            continue\n",
    "\n",
    "print(sum)"
   ]
  }
 ],
 "metadata": {
  "kernelspec": {
   "display_name": "Python 3",
   "language": "python",
   "name": "python3"
  },
  "language_info": {
   "codemirror_mode": {
    "name": "ipython",
    "version": 3
   },
   "file_extension": ".py",
   "mimetype": "text/x-python",
   "name": "python",
   "nbconvert_exporter": "python",
   "pygments_lexer": "ipython3",
   "version": "3.8.18"
  }
 },
 "nbformat": 4,
 "nbformat_minor": 2
}
