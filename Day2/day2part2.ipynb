{
 "cells": [
  {
   "cell_type": "code",
   "execution_count": 12,
   "metadata": {},
   "outputs": [
    {
     "name": "stdout",
     "output_type": "stream",
     "text": [
      "[1, 4, 6, 7, 10, 12, 13, 14, 15, 16, 20, 22, 29, 31, 33, 34, 38, 39, 40, 42, 43, 44, 45, 47, 48, 50, 51, 52, 53, 54, 55, 56, 59, 60, 64, 65, 67, 70, 73, 74, 75, 77, 78, 79, 81, 82, 84, 86, 87, 88, 89, 90, 91, 92, 93, 95, 96, 98, 99, 100]\n",
      "[2, 3, 5, 8, 9, 11, 17, 18, 19, 21, 23, 24, 25, 26, 27, 28, 30, 32, 35, 36, 37, 41, 46, 49, 57, 58, 61, 62, 63, 66, 68, 69, 71, 72, 76, 80, 83, 85, 94, 97]\n",
      "1734\n"
     ]
    }
   ],
   "source": [
    "red_max = 12\n",
    "green_max = 13\n",
    "blue_max = 14\n",
    "lines = []\n",
    "not_valid_games = []\n",
    "\n",
    "with open(\"day2_input.txt\", \"r\") as f:\n",
    "    for line in f:\n",
    "        lines.append(line.strip())\n",
    "\n",
    "for game in lines:\n",
    "    game = game.replace(\" \", \"\")\n",
    "\n",
    "    game = game.split(\":\")\n",
    "    game_number = game[0].replace(\"Game\", \"\")\n",
    "    game = game[1].split(\";\")\n",
    "\n",
    "    for sets in game:\n",
    "        sets = sets.split(\",\")\n",
    "        for i, draw in enumerate(sets):\n",
    "            if \"red\" in draw:\n",
    "                num_red = draw.replace(\"red\", \"\")\n",
    "                if int(num_red) > red_max:\n",
    "                    not_valid_games.append(int(game_number))\n",
    "                    break\n",
    "\n",
    "            elif \"green\" in draw:\n",
    "                num_green = draw.replace(\"green\", \"\")\n",
    "                if int(num_green) > green_max:\n",
    "                    not_valid_games.append(int(game_number))\n",
    "                    break\n",
    "\n",
    "            elif \"blue\" in draw:\n",
    "                num_blue = draw.replace(\"blue\", \"\")\n",
    "                if int(num_blue) > blue_max:\n",
    "                    not_valid_games.append(int(game_number))\n",
    "                    break\n",
    "    \n",
    "\n",
    "not_valid_games = list(set(not_valid_games))\n",
    "# print(not_valid_games)\n",
    "\n",
    "valid_games = []\n",
    "for i in range(1, 101):\n",
    "    if i not in not_valid_games:\n",
    "        valid_games.append(i)\n",
    "\n",
    "sum = 0\n",
    "for game in valid_games:\n",
    "    sum += int(game)\n",
    "\n",
    "print(not_valid_games)\n",
    "print(valid_games)\n",
    "\n",
    "print(sum)"
   ]
  }
 ],
 "metadata": {
  "kernelspec": {
   "display_name": "Python 3",
   "language": "python",
   "name": "python3"
  },
  "language_info": {
   "codemirror_mode": {
    "name": "ipython",
    "version": 3
   },
   "file_extension": ".py",
   "mimetype": "text/x-python",
   "name": "python",
   "nbconvert_exporter": "python",
   "pygments_lexer": "ipython3",
   "version": "3.8.18"
  }
 },
 "nbformat": 4,
 "nbformat_minor": 2
}
