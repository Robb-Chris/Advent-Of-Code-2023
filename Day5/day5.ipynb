{
 "cells": [
  {
   "cell_type": "code",
   "execution_count": 33,
   "metadata": {},
   "outputs": [
    {
     "name": "stdout",
     "output_type": "stream",
     "text": [
      "[79, 14, 55, 13]\n",
      "['seed-to-soil map', [[50, 98, 2], [52, 50, 48]]]\n",
      "['soil-to-fertilizer map', [[0, 15, 37], [37, 52, 2], [39, 0, 15]]]\n",
      "['fertilizer-to-water map', [[49, 53, 8], [0, 11, 42], [42, 0, 7], [57, 7, 4]]]\n",
      "['water-to-light map', [[88, 18, 7], [18, 25, 70]]]\n",
      "['light-to-temperature map', [[45, 77, 23], [81, 45, 19], [68, 64, 13]]]\n",
      "['temperature-to-humidity map', [[0, 69, 1], [1, 0, 69]]]\n",
      "['humidity-to-location map', [[60, 56, 37], [56, 93, 4]]]\n"
     ]
    }
   ],
   "source": [
    "input = []\n",
    "\n",
    "with open(\"day5_sample.txt\", \"r\") as f:\n",
    "    input = f.read().split(\"\\n\\n\")\n",
    "\n",
    "# print(input)\n",
    "\n",
    "seeds = []\n",
    "cleaned = {}\n",
    "\n",
    "for i in input:\n",
    "    i = i.split(\":\")\n",
    "    i[1] = i[1].split(\"\\n\")\n",
    "\n",
    "    if i[0] == \"seeds\":\n",
    "        i[1] = i[1][0].split(\" \")\n",
    "        seeds = [int(item) for item in i[1] if item not in [\"\", None]]\n",
    "        print(seeds)\n",
    "        continue\n",
    "    else:\n",
    "        i[1] = [item.split(\" \") for item in i[1] if item not in [\"\", None]]\n",
    "        i[1] = [[int(x) for x in item] for item in i[1]]\n",
    "        cleaned[i[0]] = i[1]\n",
    "        print(i)"
   ]
  },
  {
   "cell_type": "code",
   "execution_count": 34,
   "metadata": {},
   "outputs": [
    {
     "name": "stdout",
     "output_type": "stream",
     "text": [
      "Testing seed: 79\n",
      "Testing seed: 14\n",
      "Testing seed: 55\n",
      "Testing seed: 13\n"
     ]
    }
   ],
   "source": [
    "locations = []\n",
    "\n",
    "for seed in seeds:\n",
    "    print(\"Testing seed: \" + str(seed))"
   ]
  }
 ],
 "metadata": {
  "kernelspec": {
   "display_name": "Python 3",
   "language": "python",
   "name": "python3"
  },
  "language_info": {
   "codemirror_mode": {
    "name": "ipython",
    "version": 3
   },
   "file_extension": ".py",
   "mimetype": "text/x-python",
   "name": "python",
   "nbconvert_exporter": "python",
   "pygments_lexer": "ipython3",
   "version": "3.8.18"
  }
 },
 "nbformat": 4,
 "nbformat_minor": 2
}
