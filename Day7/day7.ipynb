{
 "cells": [
  {
   "cell_type": "code",
   "execution_count": 63,
   "metadata": {},
   "outputs": [
    {
     "name": "stdout",
     "output_type": "stream",
     "text": [
      "[['32T3K', '765'], ['T55J5', '684'], ['KK677', '28'], ['KTJJT', '220'], ['QQQJA', '483']]\n"
     ]
    }
   ],
   "source": [
    "lines = []\n",
    "\n",
    "with open(\"day7_sample.txt\", \"r\") as f:\n",
    "    for line in f:\n",
    "        lines.append(line.strip().split(\" \"))\n",
    "        # print(line.strip())\n",
    "\n",
    "print(lines)"
   ]
  },
  {
   "cell_type": "code",
   "execution_count": 75,
   "metadata": {},
   "outputs": [
    {
     "name": "stdout",
     "output_type": "stream",
     "text": [
      "[]\n",
      "[]\n",
      "[]\n",
      "[['T', '5', '5', 'J', '5'], ['Q', 'Q', 'Q', 'J', 'A']]\n",
      "[['K', 'K', '6', '7', '7'], ['K', 'T', 'J', 'J', 'T']]\n",
      "[['3', '2', 'T', '3', 'K']]\n",
      "[]\n",
      "5\n",
      "['T', '5', '5', 'J', '5'] 3420\n",
      "['Q', 'Q', 'Q', 'J', 'A'] 1932\n",
      "['K', 'K', '6', '7', '7'] 84\n",
      "['K', 'T', 'J', 'J', 'T'] 440\n",
      "['3', '2', 'T', '3', 'K'] 765\n",
      "6641\n"
     ]
    }
   ],
   "source": [
    "def str_to_list(string):\n",
    "    lst = [i for i in string]\n",
    "    return lst\n",
    "\n",
    "def fivekind(cards):\n",
    "    if len(set(cards)) == 1:\n",
    "        return True\n",
    "    return False\n",
    "\n",
    "def fourkind(cards):\n",
    "    if len(set(cards)) == 2:\n",
    "        if cards.count(list(set(cards))[0]) in (4,1):\n",
    "            return True\n",
    "    return False\n",
    "\n",
    "def fullhouse(cards):\n",
    "    if len(set(cards)) == 2:\n",
    "        if cards.count(list(set(cards))[0]) in (3,2):\n",
    "            return True\n",
    "    return False\n",
    "\n",
    "def threekind(cards):\n",
    "    if len(set(cards)) == 3:\n",
    "        if cards.count(list(set(cards))[0]) in (3,1):\n",
    "            return True\n",
    "    return False\n",
    "\n",
    "def twopair(cards):\n",
    "    if len(set(cards)) == 3:\n",
    "        if cards.count(list(set(cards))[0]) + cards.count(list(set(cards))[1]) in (4,3):\n",
    "            return True\n",
    "    return False\n",
    "\n",
    "def onepair(cards):\n",
    "    if len(set(cards)) == 4:\n",
    "        if cards.count(list(set(cards))[0]) + cards.count(list(set(cards))[1]) in (3,2):\n",
    "            return True\n",
    "    return False\n",
    "\n",
    "def highcard(cards):\n",
    "    if len(set(cards)) == 5:\n",
    "        return True\n",
    "    return False\n",
    "\n",
    "def sort_list(cards):\n",
    "    order = ['A', 'K', 'Q', 'J', 'T', '9', '8', '7', '6', '5', '4', '3', '2']\n",
    "    weight = {card: i for i, card in enumerate(reversed(order))}\n",
    "    return sorted(cards, key=lambda x: [weight[card] for card in x], reverse=True)\n",
    "\n",
    "ranking, fives, fours, fulls, threes, twos, ones, highs = [], [], [], [], [], [], [], []\n",
    "\n",
    "for line in lines:\n",
    "    cards = str_to_list(line[0])\n",
    "    if fivekind(cards):\n",
    "        fives.append(cards)\n",
    "    elif fourkind(cards):\n",
    "        fours.append(cards)\n",
    "    elif fullhouse(cards):\n",
    "        fulls.append(cards)\n",
    "    elif threekind(cards):\n",
    "        threes.append(cards)\n",
    "    elif twopair(cards):\n",
    "        twos.append(cards)\n",
    "    elif onepair(cards):\n",
    "        ones.append(cards)\n",
    "    elif highcard(cards):\n",
    "        highs.append(cards)\n",
    "\n",
    "ranking = fives + fours + fulls + threes + twos + ones + highs\n",
    "\n",
    "print(fives)\n",
    "print(fours)\n",
    "print(fulls)\n",
    "print(threes)\n",
    "print(twos)\n",
    "print(ones)\n",
    "print(highs)\n",
    "\n",
    "print(len(ranking))\n",
    "\n",
    "\n",
    "score = 0\n",
    "for i, cards in enumerate(ranking):\n",
    "    print(cards, (len(ranking) - i) * int([item[1] for item in lines if item[0] == \"\".join(cards)][0]))\n",
    "    score += (len(ranking) - i) * int([item[1] for item in lines if item[0] == \"\".join(cards)][0])\n",
    "\n",
    "print(score)"
   ]
  }
 ],
 "metadata": {
  "kernelspec": {
   "display_name": "Python 3",
   "language": "python",
   "name": "python3"
  },
  "language_info": {
   "codemirror_mode": {
    "name": "ipython",
    "version": 3
   },
   "file_extension": ".py",
   "mimetype": "text/x-python",
   "name": "python",
   "nbconvert_exporter": "python",
   "pygments_lexer": "ipython3",
   "version": "3.8.18"
  }
 },
 "nbformat": 4,
 "nbformat_minor": 2
}
