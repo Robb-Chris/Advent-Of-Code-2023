{
 "cells": [
  {
   "cell_type": "code",
   "execution_count": 5,
   "metadata": {},
   "outputs": [
    {
     "name": "stdout",
     "output_type": "stream",
     "text": [
      "70387\n"
     ]
    }
   ],
   "source": [
    "lines = []\n",
    "\n",
    "with open(\"day2_input.txt\", \"r\") as f:\n",
    "    for line in f:\n",
    "        lines.append(line.strip())\n",
    "\n",
    "sum = 0\n",
    "\n",
    "for game in lines:\n",
    "    game = game.replace(\" \", \"\")\n",
    "\n",
    "    game = game.split(\":\")\n",
    "    game_number = game[0].replace(\"Game\", \"\")\n",
    "    game = game[1].split(\";\")\n",
    "\n",
    "    first_red, first_green, first_blue = True, True, True\n",
    "    game_min_dice = {\"red\": 0, \"green\": 0, \"blue\": 0}\n",
    "\n",
    "    for sets in game:\n",
    "        sets = sets.split(\",\")\n",
    "        for i, draw in enumerate(sets):\n",
    "            if \"red\" in draw:\n",
    "                num_red = draw.replace(\"red\", \"\")\n",
    "                if first_red:\n",
    "                    game_min_dice[\"red\"] = int(num_red)\n",
    "                    first_red = False\n",
    "                elif int(num_red) > game_min_dice[\"red\"]:\n",
    "                    game_min_dice[\"red\"] = int(num_red)\n",
    "\n",
    "            elif \"green\" in draw:\n",
    "                num_green = draw.replace(\"green\", \"\")\n",
    "                if first_green:\n",
    "                    game_min_dice[\"green\"] = int(num_green)\n",
    "                    first_green = False\n",
    "                elif int(num_green) > game_min_dice[\"green\"]:\n",
    "                    game_min_dice[\"green\"] = int(num_green)\n",
    "\n",
    "            elif \"blue\" in draw:\n",
    "                num_blue = draw.replace(\"blue\", \"\")\n",
    "                if first_blue:\n",
    "                    game_min_dice[\"blue\"] = int(num_blue)\n",
    "                    first_blue = False\n",
    "                elif int(num_blue) > game_min_dice[\"blue\"]:\n",
    "                    game_min_dice[\"blue\"] = int(num_blue)\n",
    "        \n",
    "    power = game_min_dice[\"red\"] * game_min_dice[\"green\"] * game_min_dice[\"blue\"]\n",
    "    # print(\"Game \" + game_number + \" power: \" + str(game_min_dice[\"red\"]) + \" * \" + str(game_min_dice[\"green\"]) + \" * \" + str(game_min_dice[\"blue\"]) + \" = \" + str(power))\n",
    "    sum += power  \n",
    "\n",
    "print(sum)"
   ]
  }
 ],
 "metadata": {
  "kernelspec": {
   "display_name": "Python 3",
   "language": "python",
   "name": "python3"
  },
  "language_info": {
   "codemirror_mode": {
    "name": "ipython",
    "version": 3
   },
   "file_extension": ".py",
   "mimetype": "text/x-python",
   "name": "python",
   "nbconvert_exporter": "python",
   "pygments_lexer": "ipython3",
   "version": "3.8.18"
  }
 },
 "nbformat": 4,
 "nbformat_minor": 2
}
