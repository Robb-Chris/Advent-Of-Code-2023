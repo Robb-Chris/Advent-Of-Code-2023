{
 "cells": [
  {
   "cell_type": "code",
   "execution_count": 20,
   "metadata": {},
   "outputs": [
    {
     "name": "stdout",
     "output_type": "stream",
     "text": [
      "1 [41, 48, 83, 86, 17] [83, 86, 6, 31, 17, 9, 48, 53]\n",
      "2 [13, 32, 20, 16, 61] [61, 30, 68, 82, 17, 32, 24, 19]\n",
      "3 [1, 21, 53, 59, 44] [69, 82, 63, 72, 16, 21, 14, 1]\n",
      "4 [41, 92, 73, 84, 69] [59, 84, 76, 51, 58, 5, 54, 83]\n",
      "5 [87, 83, 26, 28, 32] [88, 30, 70, 12, 93, 22, 82, 36]\n",
      "6 [31, 18, 13, 56, 72] [74, 77, 10, 23, 35, 67, 36, 11]\n"
     ]
    }
   ],
   "source": [
    "lines = []\n",
    "cards = {}\n",
    "\n",
    "with open(\"day4_sample.txt\", \"r\") as f:\n",
    "    for line in f:\n",
    "        lines.append(line.strip())\n",
    "\n",
    "for line in lines:\n",
    "    line = line.split(\":\")\n",
    "    game = int(line[0].split(\"Card \")[1])\n",
    "    line = line[1].split(\"|\")\n",
    "\n",
    "    win_nums = line[0].split(\" \")\n",
    "    win_nums = [int(item) for item in win_nums if item not in [\"\", None]]\n",
    "\n",
    "    draws = line[1].split(\" \")\n",
    "    draws = [int(item) for item in draws if item not in [\"\", None]]\n",
    "\n",
    "    cards[game] = [win_nums, draws]\n",
    "    \n",
    "for game, value in cards.items():\n",
    "    print(game, value[0], value[1])"
   ]
  },
  {
   "cell_type": "code",
   "execution_count": 51,
   "metadata": {},
   "outputs": [
    {
     "name": "stdout",
     "output_type": "stream",
     "text": [
      "1 [41, 48, 83, 86, 17] [83, 86, 6, 31, 17, 9, 48, 53]\n",
      ".  2 [13, 32, 20, 16, 61] [61, 30, 68, 82, 17, 32, 24, 19]\n",
      "-   found draw in recursion 2 61\n",
      ".  6 [31, 18, 13, 56, 72] [74, 77, 10, 23, 35, 67, 36, 11]\n",
      ".  3 [1, 21, 53, 59, 44] [69, 82, 63, 72, 16, 21, 14, 1]\n",
      "-   found draw in recursion 3 21\n",
      ".  6 [31, 18, 13, 56, 72] [74, 77, 10, 23, 35, 67, 36, 11]\n",
      ".  4 [41, 92, 73, 84, 69] [59, 84, 76, 51, 58, 5, 54, 83]\n",
      "-   found draw in recursion 4 84\n",
      ".  6 [31, 18, 13, 56, 72] [74, 77, 10, 23, 35, 67, 36, 11]\n",
      ".  5 [87, 83, 26, 28, 32] [88, 30, 70, 12, 93, 22, 82, 36]\n",
      "2 [13, 32, 20, 16, 61] [61, 30, 68, 82, 17, 32, 24, 19]\n",
      ".  3 [1, 21, 53, 59, 44] [69, 82, 63, 72, 16, 21, 14, 1]\n",
      "-   found draw in recursion 3 21\n",
      ".  6 [31, 18, 13, 56, 72] [74, 77, 10, 23, 35, 67, 36, 11]\n",
      ".  4 [41, 92, 73, 84, 69] [59, 84, 76, 51, 58, 5, 54, 83]\n",
      "-   found draw in recursion 4 84\n",
      ".  6 [31, 18, 13, 56, 72] [74, 77, 10, 23, 35, 67, 36, 11]\n",
      "3 [1, 21, 53, 59, 44] [69, 82, 63, 72, 16, 21, 14, 1]\n",
      ".  4 [41, 92, 73, 84, 69] [59, 84, 76, 51, 58, 5, 54, 83]\n",
      "-   found draw in recursion 4 84\n",
      ".  6 [31, 18, 13, 56, 72] [74, 77, 10, 23, 35, 67, 36, 11]\n",
      ".  5 [87, 83, 26, 28, 32] [88, 30, 70, 12, 93, 22, 82, 36]\n",
      "4 [41, 92, 73, 84, 69] [59, 84, 76, 51, 58, 5, 54, 83]\n",
      ".  5 [87, 83, 26, 28, 32] [88, 30, 70, 12, 93, 22, 82, 36]\n",
      "5 [87, 83, 26, 28, 32] [88, 30, 70, 12, 93, 22, 82, 36]\n",
      "6 [31, 18, 13, 56, 72] [74, 77, 10, 23, 35, 67, 36, 11]\n",
      "21\n"
     ]
    }
   ],
   "source": [
    "dict_len = len(cards)\n",
    "summed = len(cards)\n",
    "\n",
    "def rec_check(game, win_num, draw):\n",
    "    for n in draw:\n",
    "        points_rec = 0\n",
    "        if n in win_num:\n",
    "            print(\"-   found draw in recursion\", game , n)\n",
    "            points_rec += 1\n",
    "            summed += 1\n",
    "            if game + points_rec < dict_len:\n",
    "                copy_game = game + points_rec\n",
    "                print(copy_game)\n",
    "                copy_win = cards[copy_game][0]\n",
    "                copy_draw = cards[copy_game][1]\n",
    "                print(\"-   \" , copy_game, copy_win, copy_draw)\n",
    "                rec_check(copy_game, copy_win, copy_draw)\n",
    "                continue\n",
    "            else:\n",
    "                copy_game = dict_len\n",
    "                print(copy_game)\n",
    "                copy_win = cards[dict_len][0]\n",
    "                copy_draw = cards[dict_len][1]\n",
    "                print(\"-   \" , copy_game, copy_win, copy_draw)\n",
    "                rec_check(copy_game, copy_win, copy_draw)\n",
    "                continue\n",
    "        \n",
    "\n",
    "for game, value in cards.items():\n",
    "    print(game, value[0], value[1])\n",
    "    win_nums = value[0]\n",
    "    draws = value[1]\n",
    "    points = 0\n",
    "\n",
    "    for draw in draws:\n",
    "        if draw in win_nums:\n",
    "            summed += 1\n",
    "            points += 1\n",
    "            try:\n",
    "                copy_game = game + points\n",
    "                copy_win = cards[copy_game][0]\n",
    "                copy_draw = cards[copy_game][1]\n",
    "\n",
    "                print(\". \" , copy_game, copy_win, copy_draw)\n",
    "                rec_check(copy_game, copy_win, copy_draw)\n",
    "            except:\n",
    "                copy_game = dict_len\n",
    "                copy_win = cards[dict_len][0]\n",
    "                copy_draw = cards[dict_len][1]\n",
    "                print(\". \" , copy_game, copy_win, copy_draw)\n",
    "                rec_check(copy_game, copy_win, copy_draw)\n",
    "\n",
    "print(summed + dict_len)"
   ]
  }
 ],
 "metadata": {
  "kernelspec": {
   "display_name": "Python 3",
   "language": "python",
   "name": "python3"
  },
  "language_info": {
   "codemirror_mode": {
    "name": "ipython",
    "version": 3
   },
   "file_extension": ".py",
   "mimetype": "text/x-python",
   "name": "python",
   "nbconvert_exporter": "python",
   "pygments_lexer": "ipython3",
   "version": "3.8.18"
  }
 },
 "nbformat": 4,
 "nbformat_minor": 2
}
