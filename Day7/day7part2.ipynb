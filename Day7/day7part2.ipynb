{
 "cells": [
  {
   "cell_type": "code",
   "execution_count": 35,
   "metadata": {},
   "outputs": [
    {
     "name": "stdout",
     "output_type": "stream",
     "text": [
      "[['32T3K', '765'], ['T55J5', '684'], ['KK677', '28'], ['KTJJT', '220'], ['QQQJA', '483'], ['JJJT3', '938']]\n"
     ]
    }
   ],
   "source": [
    "lines = []\n",
    "\n",
    "with open(\"day7_sample.txt\", \"r\") as f:\n",
    "    for line in f:\n",
    "        lines.append(line.strip().split(\" \"))\n",
    "        # print(line.strip())\n",
    "\n",
    "print(lines)"
   ]
  },
  {
   "cell_type": "code",
   "execution_count": 38,
   "metadata": {},
   "outputs": [
    {
     "name": "stdout",
     "output_type": "stream",
     "text": [
      "5555\n",
      "TTTT\n",
      "TTTT\n",
      "QQQQ\n",
      "Counter({'T': 1, '3': 1})\n",
      "Counter({'T': 1, '3': 1})\n",
      "Counter({'T': 1, '3': 1})\n"
     ]
    }
   ],
   "source": [
    "from collections import Counter\n",
    "\n",
    "for i, line in enumerate(lines):\n",
    "    for c in line[0]:\n",
    "        if c == \"J\":\n",
    "            # print(\"J found\")\n",
    "            counts = Counter(line[0])\n",
    "\n",
    "            # print(counts)\n",
    "            # print(counts[\"J\"])\n",
    "            # print(counts.most_common(1)[0][1])\n",
    "            \n",
    "            if counts.most_common(1)[0][0] == \"J\":\n",
    "                jcount = counts.pop(\"J\")\n",
    "                print(counts)\n",
    "                if counts.most_common(1)[0][1] == 1 and len(counts) > 1:\n",
    "                    pass\n",
    "                else:\n",
    "                    new_cards = counts.pop(counts.most_common(1)[0][0]) * jcount\n",
    "                    for char, i in counts.items():\n",
    "                        new_cards += char * i\n",
    "            else:\n",
    "                print(counts.most_common(1)[0][0] * (counts.most_common(1)[0][1] + counts[\"J\"]))\n",
    "\n"
   ]
  },
  {
   "cell_type": "code",
   "execution_count": 32,
   "metadata": {},
   "outputs": [
    {
     "name": "stdout",
     "output_type": "stream",
     "text": [
      "246912307\n"
     ]
    }
   ],
   "source": [
    "def str_to_list(string):\n",
    "    lst = [i for i in string]\n",
    "    return lst\n",
    "\n",
    "def fivekind(cards):\n",
    "    if len(set(cards)) == 1:\n",
    "        return True\n",
    "    return False\n",
    "\n",
    "def fourkind(cards):\n",
    "    if len(set(cards)) == 2:\n",
    "        if cards.count(list(set(cards))[0]) in (4,1):\n",
    "            return True\n",
    "    return False\n",
    "\n",
    "def fullhouse(cards):\n",
    "    if len(set(cards)) == 2:\n",
    "        if cards.count(list(set(cards))[0]) in (3,2):\n",
    "            return True\n",
    "    return False\n",
    "\n",
    "def threekind(cards):\n",
    "    if len(set(cards)) == 3:\n",
    "        for num in list(set(cards)):\n",
    "            if cards.count(num) == 3:\n",
    "                return True\n",
    "    return False\n",
    "\n",
    "def twopair(cards):\n",
    "    if len(set(cards)) == 3:\n",
    "        if cards.count(list(set(cards))[0]) + cards.count(list(set(cards))[1]) in (4,3):\n",
    "            return True\n",
    "    return False\n",
    "\n",
    "def onepair(cards):\n",
    "    if len(set(cards)) == 4:\n",
    "        if cards.count(list(set(cards))[0]) + cards.count(list(set(cards))[1]) in (3,2):\n",
    "            return True\n",
    "    return False\n",
    "\n",
    "def highcard(cards):\n",
    "    if len(set(cards)) == 5:\n",
    "        return True\n",
    "    return False\n",
    "\n",
    "def sort_list(cards):\n",
    "    order = ['A', 'K', 'Q', 'J', 'T', '9', '8', '7', '6', '5', '4', '3', '2'] \n",
    "    weight = {card: i for i, card in enumerate(reversed(order))}\n",
    "    return sorted(cards, key=lambda x: [weight[card] for card in x], reverse=True)\n",
    "\n",
    "ranking, fives, fours, fulls, threes, twos, ones, highs = [], [], [], [], [], [], [], []\n",
    "\n",
    "for line in lines:\n",
    "    cards = str_to_list(line[0])\n",
    "    if fivekind(cards):\n",
    "        fives.append(cards)\n",
    "    elif fourkind(cards):\n",
    "        fours.append(cards)\n",
    "    elif fullhouse(cards):\n",
    "        fulls.append(cards)\n",
    "    elif threekind(cards):\n",
    "        threes.append(cards)\n",
    "    elif twopair(cards):\n",
    "        twos.append(cards)\n",
    "    elif onepair(cards):\n",
    "        ones.append(cards)\n",
    "    elif highcard(cards):\n",
    "        highs.append(cards)\n",
    "\n",
    "ranking = sort_list(fives) + sort_list(fours) + sort_list(fulls) + sort_list(threes) + sort_list(twos) + sort_list(ones) + sort_list(highs)\n",
    "\n",
    "# print(\"fives\", fives)\n",
    "# print(\"fours\", fours)\n",
    "# print(\"fulls\", fulls)\n",
    "# print(\"threes\", threes)\n",
    "# print(\"twos\", twos)\n",
    "# print(\"ones\", ones)\n",
    "# print(\"highs\", highs)\n",
    "\n",
    "# print(len(ranking))\n",
    "\n",
    "score = 0\n",
    "for i, cards in enumerate(ranking):\n",
    "    # print(cards, (len(ranking) - i) * int([item[1] for item in lines if item[0] == \"\".join(cards)][0]))\n",
    "    score += (len(ranking) - i) * int([item[1] for item in lines if item[0] == \"\".join(cards)][0])\n",
    "\n",
    "print(score)"
   ]
  }
 ],
 "metadata": {
  "kernelspec": {
   "display_name": "Python 3",
   "language": "python",
   "name": "python3"
  },
  "language_info": {
   "codemirror_mode": {
    "name": "ipython",
    "version": 3
   },
   "file_extension": ".py",
   "mimetype": "text/x-python",
   "name": "python",
   "nbconvert_exporter": "python",
   "pygments_lexer": "ipython3",
   "version": "3.8.18"
  }
 },
 "nbformat": 4,
 "nbformat_minor": 2
}
