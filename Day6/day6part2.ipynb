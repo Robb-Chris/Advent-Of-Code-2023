{
 "cells": [
  {
   "cell_type": "code",
   "execution_count": 4,
   "metadata": {},
   "outputs": [
    {
     "name": "stdout",
     "output_type": "stream",
     "text": [
      "['Time', 54708275]\n",
      "['Distance', 239114212951253]\n"
     ]
    }
   ],
   "source": [
    "input = []\n",
    "\n",
    "with open(\"day6_input.txt\", \"r\") as f:\n",
    "    input = f.read().split(\"\\n\")\n",
    "\n",
    "cleaned_data = []\n",
    "\n",
    "for i in input:\n",
    "    key, values = i.split(\":\")\n",
    "    values = int(values.replace(\" \", \"\"))\n",
    "    cleaned_data.append([key, values])\n",
    "\n",
    "time = cleaned_data[0]\n",
    "distance = cleaned_data[1]\n",
    "\n",
    "print(time)\n",
    "print(distance)"
   ]
  },
  {
   "cell_type": "code",
   "execution_count": 5,
   "metadata": {},
   "outputs": [
    {
     "name": "stdout",
     "output_type": "stream",
     "text": [
      "45128024\n"
     ]
    }
   ],
   "source": [
    "# Brute force\n",
    "\n",
    "count = 0\n",
    "\n",
    "for i in range(1, time[1]):\n",
    "    speed = i\n",
    "    dist = speed * (time[1] - i)\n",
    "    if dist > distance[1]:\n",
    "        count += 1\n",
    "\n",
    "print(count)"
   ]
  },
  {
   "cell_type": "code",
   "execution_count": 7,
   "metadata": {},
   "outputs": [
    {
     "name": "stdout",
     "output_type": "stream",
     "text": [
      "45128024\n"
     ]
    }
   ],
   "source": [
    "# Quadratic Formula\n",
    "from math import sqrt, ceil\n",
    "\n",
    "t = time[1]\n",
    "r = distance[1]\n",
    "s = sqrt((t**2) - (4 * r))\n",
    "\n",
    "print(ceil(s))"
   ]
  }
 ],
 "metadata": {
  "kernelspec": {
   "display_name": "Python 3",
   "language": "python",
   "name": "python3"
  },
  "language_info": {
   "codemirror_mode": {
    "name": "ipython",
    "version": 3
   },
   "file_extension": ".py",
   "mimetype": "text/x-python",
   "name": "python",
   "nbconvert_exporter": "python",
   "pygments_lexer": "ipython3",
   "version": "3.8.18"
  }
 },
 "nbformat": 4,
 "nbformat_minor": 2
}
